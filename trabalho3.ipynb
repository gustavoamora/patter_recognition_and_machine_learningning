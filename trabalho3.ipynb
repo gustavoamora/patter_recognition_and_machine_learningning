{
  "nbformat": 4,
  "nbformat_minor": 0,
  "metadata": {
    "colab": {
      "provenance": [],
      "authorship_tag": "ABX9TyN2XCxDeBF/wYf0De29znyR",
      "include_colab_link": true
    },
    "kernelspec": {
      "name": "python3",
      "display_name": "Python 3"
    },
    "language_info": {
      "name": "python"
    }
  },
  "cells": [
    {
      "cell_type": "markdown",
      "metadata": {
        "id": "view-in-github",
        "colab_type": "text"
      },
      "source": [
        "<a href=\"https://colab.research.google.com/github/gustavoamora/patter_recognition_and_machine_learningning/blob/main/trabalho3.ipynb\" target=\"_parent\"><img src=\"https://colab.research.google.com/assets/colab-badge.svg\" alt=\"Open In Colab\"/></a>"
      ]
    },
    {
      "cell_type": "markdown",
      "source": [
        "#### Teste 1:"
      ],
      "metadata": {
        "id": "w53lSagBg1nK"
      }
    },
    {
      "cell_type": "code",
      "source": [
        "# Importando bibliotecas\n",
        "import numpy as np\n",
        "from sklearn.pipeline import Pipeline\n",
        "from sklearn.preprocessing import StandardScaler\n",
        "from sklearn.model_selection import GridSearchCV\n",
        "from sklearn.neighbors import KNeighborsClassifier\n",
        "from sklearn.model_selection import cross_validate\n",
        "from sklearn.metrics import make_scorer\n",
        "from sklearn.metrics import mean_squared_error"
      ],
      "metadata": {
        "id": "e9TUmgynLdhQ"
      },
      "execution_count": null,
      "outputs": []
    },
    {
      "cell_type": "code",
      "execution_count": null,
      "metadata": {
        "colab": {
          "base_uri": "https://localhost:8080/"
        },
        "id": "s0Y9_Auagr5x",
        "outputId": "83fe6e1d-d615-4fd4-8b06-8a2752a2fb32"
      },
      "outputs": [
        {
          "output_type": "stream",
          "name": "stdout",
          "text": [
            "downloading Olivetti faces from https://ndownloader.figshare.com/files/5976027 to /root/scikit_learn_data\n"
          ]
        },
        {
          "output_type": "execute_result",
          "data": {
            "text/plain": [
              "((400, 4096), (400,))"
            ]
          },
          "metadata": {},
          "execution_count": 2
        }
      ],
      "source": [
        "### Testando primeira base de dados:\n",
        "\n",
        "from sklearn.datasets import fetch_olivetti_faces\n",
        "X, y = fetch_olivetti_faces(return_X_y=True)\n",
        "X.shape, y.shape"
      ]
    },
    {
      "cell_type": "code",
      "source": [
        "from sklearn.model_selection import train_test_split\n",
        "\n",
        "Xtr, Xte, ytr, yte = train_test_split(X, y)\n",
        "Xtr.shape, ytr.shape, Xte.shape, yte.shape"
      ],
      "metadata": {
        "colab": {
          "base_uri": "https://localhost:8080/"
        },
        "id": "NNMvmbDbU9W8",
        "outputId": "b88affcc-829b-44d4-dd71-5dec4ea5a082"
      },
      "execution_count": null,
      "outputs": [
        {
          "output_type": "execute_result",
          "data": {
            "text/plain": [
              "((300, 4096), (300,), (100, 4096), (100,))"
            ]
          },
          "metadata": {},
          "execution_count": 3
        }
      ]
    },
    {
      "cell_type": "code",
      "source": [
        "# Pipeline Sem GridSearch\n",
        "\n",
        "pipe_sem_gs = Pipeline([\n",
        "    ('scaler', StandardScaler()),\n",
        "    ('clf', KNeighborsClassifier())\n",
        "])\n",
        "\n",
        "score_sem_gs = cross_validate(pipe_sem_gs, X, y,\n",
        "                        scoring=make_scorer(mean_squared_error, squared=False))\n",
        "rmse = np.mean(score_sem_gs['test_score'])\n",
        "std = np.std(score_sem_gs['test_score'])\n",
        "print(f\"KNNstd: {rmse}, std: {std}\")"
      ],
      "metadata": {
        "colab": {
          "base_uri": "https://localhost:8080/"
        },
        "id": "ZbmTneORVsk6",
        "outputId": "6e00188d-2063-4c7e-dbc8-a5b375095c71"
      },
      "execution_count": null,
      "outputs": [
        {
          "output_type": "stream",
          "name": "stdout",
          "text": [
            "KNNstd: 7.701875299801463, std: 0.4986149479389173\n"
          ]
        }
      ]
    },
    {
      "cell_type": "code",
      "source": [
        "# Com GridSearch dentro do pipe\n",
        "\n",
        "parametros = {'n_neighbors': [1, 3, 5, 7, 9, 15]}\n",
        "scaler = StandardScaler()\n",
        "GridSearchKNN = GridSearchCV(KNeighborsClassifier(), parametros, scoring='neg_mean_squared_error')\n",
        "\n",
        "modelo = Pipeline([\n",
        "    ('padronização', scaler),\n",
        "    ('gsknn', GridSearchKNN)\n",
        "])\n",
        "\n",
        "scores_gs_pipe = cross_validate(modelo, X, y,\n",
        "                                scoring=make_scorer(mean_squared_error, greater_is_better=False, squared = False))\n",
        "print(scores_gs_pipe['test_score'])\n",
        "gs_pipe  = np.mean(scores_gs_pipe['test_score'])\n",
        "print(f'GS -> Pipe: {gs_pipe}')"
      ],
      "metadata": {
        "colab": {
          "base_uri": "https://localhost:8080/"
        },
        "id": "aQ6vpAgPbt7h",
        "outputId": "2f1c5d71-e885-4790-b7b1-cc67c06805ae"
      },
      "execution_count": null,
      "outputs": [
        {
          "output_type": "stream",
          "name": "stdout",
          "text": [
            "[-4.99874984 -4.97619332 -4.56891672 -4.42012443 -6.69794745]\n",
            "GS -> Pipe: -5.132386353596913\n"
          ]
        }
      ]
    },
    {
      "cell_type": "code",
      "source": [
        "# Com Pipeline dentro do GridSearch\n",
        "\n",
        "pipe = Pipeline([\n",
        "    ('scaler', StandardScaler()),\n",
        "    ('clf', KNeighborsClassifier())\n",
        "])\n",
        "param = {'scaler__with_mean': [True, False],\n",
        "         'clf__n_neighbors': [1, 3, 5, 7, 9, 15],\n",
        "         'clf__metric': ['cosine', 'cityblock', 'euclidean']}\n",
        "modeloAninhado = GridSearchCV(pipe, param, verbose=0, cv=5,\n",
        "                      scoring=make_scorer(mean_squared_error,\n",
        "                                          greater_is_better=False,\n",
        "                                          squared=False))\n",
        "score_pipe_gs = cross_validate(modeloAninhado, Xtr, ytr, cv=5, return_estimator=True,\n",
        "                        scoring=make_scorer(mean_squared_error, squared=False))\n",
        "print(score_pipe_gs['test_score'])\n",
        "pipe_gs  = np.mean(score_pipe_gs['test_score'])\n",
        "print(f'Pipe -> GS: {pipe_gs}')"
      ],
      "metadata": {
        "colab": {
          "base_uri": "https://localhost:8080/"
        },
        "id": "ZCY4hx3YcAX8",
        "outputId": "ace2978c-8120-42ed-f7ea-bd46793a288d"
      },
      "execution_count": null,
      "outputs": [
        {
          "output_type": "stream",
          "name": "stderr",
          "text": [
            "/usr/local/lib/python3.10/dist-packages/sklearn/model_selection/_split.py:700: UserWarning: The least populated class in y has only 4 members, which is less than n_splits=5.\n",
            "  warnings.warn(\n",
            "/usr/local/lib/python3.10/dist-packages/sklearn/model_selection/_split.py:700: UserWarning: The least populated class in y has only 3 members, which is less than n_splits=5.\n",
            "  warnings.warn(\n",
            "/usr/local/lib/python3.10/dist-packages/sklearn/model_selection/_split.py:700: UserWarning: The least populated class in y has only 3 members, which is less than n_splits=5.\n",
            "  warnings.warn(\n",
            "/usr/local/lib/python3.10/dist-packages/sklearn/model_selection/_split.py:700: UserWarning: The least populated class in y has only 3 members, which is less than n_splits=5.\n",
            "  warnings.warn(\n",
            "/usr/local/lib/python3.10/dist-packages/sklearn/model_selection/_split.py:700: UserWarning: The least populated class in y has only 4 members, which is less than n_splits=5.\n",
            "  warnings.warn(\n",
            "/usr/local/lib/python3.10/dist-packages/sklearn/model_selection/_split.py:700: UserWarning: The least populated class in y has only 3 members, which is less than n_splits=5.\n",
            "  warnings.warn(\n"
          ]
        },
        {
          "output_type": "stream",
          "name": "stdout",
          "text": [
            "[5.5617743  5.6862407  6.15765107 1.88414437 7.29611769]\n",
            "Pipe -> GS: 5.317185624972493\n"
          ]
        }
      ]
    },
    {
      "cell_type": "code",
      "source": [
        "std_diff = round((rmse - pipe_gs) / std,2)\n",
        "print(f'A diferença de score do modelo com Pipeline dentro do Gridsearch foi de {std_diff}x o std do modelo padrão sem GridSearch.')"
      ],
      "metadata": {
        "colab": {
          "base_uri": "https://localhost:8080/"
        },
        "id": "wSSBd8emUxY9",
        "outputId": "aba7a2e9-3ce3-48f4-d703-e1c606e97a31"
      },
      "execution_count": null,
      "outputs": [
        {
          "output_type": "stream",
          "name": "stdout",
          "text": [
            "A diferença de score do modelo com Pipeline dentro do Gridsearch foi de 6.38x o std do modelo padrão sem GridSearch.\n"
          ]
        }
      ]
    }
  ]
}