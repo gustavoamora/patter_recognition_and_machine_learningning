{
  "nbformat": 4,
  "nbformat_minor": 0,
  "metadata": {
    "colab": {
      "provenance": [],
      "include_colab_link": true
    },
    "kernelspec": {
      "name": "python3",
      "display_name": "Python 3"
    },
    "language_info": {
      "name": "python"
    }
  },
  "cells": [
    {
      "cell_type": "markdown",
      "metadata": {
        "id": "view-in-github",
        "colab_type": "text"
      },
      "source": [
        "<a href=\"https://colab.research.google.com/github/gustavoamora/patter_recognition_and_machine_learningning/blob/main/gustavo_aula10a_feature_selection.ipynb\" target=\"_parent\"><img src=\"https://colab.research.google.com/assets/colab-badge.svg\" alt=\"Open In Colab\"/></a>"
      ]
    },
    {
      "cell_type": "code",
      "execution_count": 28,
      "metadata": {
        "colab": {
          "base_uri": "https://localhost:8080/"
        },
        "id": "1jKzneXD__td",
        "outputId": "6e50bc70-7636-4897-835d-b8f3ca11b62a"
      },
      "outputs": [
        {
          "output_type": "execute_result",
          "data": {
            "text/plain": [
              "((581012, 54), (581012,))"
            ]
          },
          "metadata": {},
          "execution_count": 28
        }
      ],
      "source": [
        "from sklearn.datasets import fetch_covtype\n",
        "X, y = fetch_covtype(return_X_y=True)\n",
        "X.shape, y.shape"
      ]
    },
    {
      "cell_type": "code",
      "source": [
        "from sklearn.model_selection import cross_validate\n",
        "from sklearn.linear_model import RidgeClassifier\n",
        "import numpy as np\n",
        "\n",
        "modelo = RidgeClassifier()\n",
        "scores = cross_validate(modelo, X, y)\n",
        "scores, np.mean(scores['test_score'])"
      ],
      "metadata": {
        "colab": {
          "base_uri": "https://localhost:8080/"
        },
        "id": "WHbJ67NbBRom",
        "outputId": "19486248-8930-4c86-a01d-f28a40a0587c"
      },
      "execution_count": 29,
      "outputs": [
        {
          "output_type": "execute_result",
          "data": {
            "text/plain": [
              "({'fit_time': array([1.04676032, 1.14223933, 0.9960804 , 1.27979732, 1.61488461]),\n",
              "  'score_time': array([0.04362798, 0.04034114, 0.04267406, 0.06844759, 0.1014607 ]),\n",
              "  'test_score': array([0.58947704, 0.76359474, 0.62652106, 0.67569405, 0.54031772])},\n",
              " 0.639120922063683)"
            ]
          },
          "metadata": {},
          "execution_count": 29
        }
      ]
    },
    {
      "cell_type": "code",
      "source": [
        "from sklearn.preprocessing import StandardScaler\n",
        "from sklearn.pipeline import Pipeline\n",
        "\n",
        "modelo = Pipeline([\n",
        "    ('scaler', StandardScaler()),\n",
        "    ('clf', RidgeClassifier())\n",
        "])\n",
        "scores = cross_validate(modelo, X, y)\n",
        "scores, np.mean(scores['test_score'])"
      ],
      "metadata": {
        "colab": {
          "base_uri": "https://localhost:8080/"
        },
        "id": "xWS3gVgjDDR6",
        "outputId": "257caa0d-e039-4d04-e578-92b26982ede7"
      },
      "execution_count": 30,
      "outputs": [
        {
          "output_type": "execute_result",
          "data": {
            "text/plain": [
              "({'fit_time': array([3.87529659, 2.5427289 , 2.23372698, 2.51340866, 1.42458844]),\n",
              "  'score_time': array([0.12741947, 0.18669939, 0.11638117, 0.0910387 , 0.09828711]),\n",
              "  'test_score': array([0.58947704, 0.76360335, 0.62653827, 0.6756252 , 0.5407308 ])},\n",
              " 0.6391949311020719)"
            ]
          },
          "metadata": {},
          "execution_count": 30
        }
      ]
    },
    {
      "cell_type": "code",
      "source": [
        "from sklearn.feature_selection import VarianceThreshold\n",
        "\n",
        "modelo = Pipeline([\n",
        "    ('fs', VarianceThreshold(threshold=0.01)),\n",
        "    ('clf', RidgeClassifier())\n",
        "])\n",
        "scores = cross_validate(modelo, X, y)\n",
        "scores, np.mean(scores['test_score'])"
      ],
      "metadata": {
        "colab": {
          "base_uri": "https://localhost:8080/"
        },
        "id": "_rckQgwOEp7S",
        "outputId": "a4403220-24bc-4fa8-e61c-1762ff07f60d"
      },
      "execution_count": 31,
      "outputs": [
        {
          "output_type": "execute_result",
          "data": {
            "text/plain": [
              "({'fit_time': array([1.49292254, 1.552665  , 1.23112726, 1.25810838, 1.24994898]),\n",
              "  'score_time': array([0.15799141, 0.06123376, 0.06871104, 0.07850695, 0.07360435]),\n",
              "  'test_score': array([0.6034784 , 0.77028992, 0.63267414, 0.69466963, 0.53096332])},\n",
              " 0.6464150810342003)"
            ]
          },
          "metadata": {},
          "execution_count": 31
        }
      ]
    },
    {
      "cell_type": "code",
      "source": [
        "from sklearn.feature_selection import SelectPercentile, f_classif\n",
        "\n",
        "modelo = Pipeline([\n",
        "    ('fsvar', VarianceThreshold()),\n",
        "    ('fsanova', SelectPercentile(f_classif)),\n",
        "    ('clf', RidgeClassifier())\n",
        "])\n",
        "scores = cross_validate(modelo, X, y)\n",
        "scores, np.mean(scores['test_score'])"
      ],
      "metadata": {
        "colab": {
          "base_uri": "https://localhost:8080/"
        },
        "id": "0B9gDMnBGAbZ",
        "outputId": "c0135cef-e204-4cb3-ef0c-7585c45908fe"
      },
      "execution_count": 32,
      "outputs": [
        {
          "output_type": "execute_result",
          "data": {
            "text/plain": [
              "({'fit_time': array([1.64469337, 1.53733993, 1.46387458, 1.71303248, 1.75484276]),\n",
              "  'score_time': array([0.08056808, 0.08283472, 0.07768226, 0.18807411, 0.08135414]),\n",
              "  'test_score': array([0.65963013, 0.75532473, 0.67429993, 0.62916301, 0.52558476])},\n",
              " 0.6488005112564956)"
            ]
          },
          "metadata": {},
          "execution_count": 32
        }
      ]
    },
    {
      "cell_type": "markdown",
      "source": [
        "### Testando novas feature selections:\n"
      ],
      "metadata": {
        "id": "ZoHK5_jOfyMf"
      }
    },
    {
      "cell_type": "markdown",
      "source": [],
      "metadata": {
        "id": "qPbe8cHwfxHo"
      }
    },
    {
      "cell_type": "code",
      "source": [
        "## SelectKBest + f_classif\n",
        "\n",
        "from sklearn.feature_selection import SelectKBest, f_classif\n",
        "\n",
        "modelo = Pipeline([\n",
        "    ('scaler', StandardScaler()),\n",
        "    ('kbest', SelectKBest(f_classif)),\n",
        "    ('clf', RidgeClassifier())\n",
        "])\n",
        "scores = cross_validate(modelo, X, y)\n",
        "scores, np.mean(scores['test_score'])"
      ],
      "metadata": {
        "id": "4L_pLH9u7aGs",
        "colab": {
          "base_uri": "https://localhost:8080/"
        },
        "outputId": "f002121d-40a5-442d-a652-551a781a6c1d"
      },
      "execution_count": 33,
      "outputs": [
        {
          "output_type": "stream",
          "name": "stderr",
          "text": [
            "/usr/local/lib/python3.10/dist-packages/sklearn/feature_selection/_univariate_selection.py:112: UserWarning: Features [20] are constant.\n",
            "  warnings.warn(\"Features %s are constant.\" % constant_features_idx, UserWarning)\n",
            "/usr/local/lib/python3.10/dist-packages/sklearn/feature_selection/_univariate_selection.py:113: RuntimeWarning: invalid value encountered in divide\n",
            "  f = msb / msw\n",
            "/usr/local/lib/python3.10/dist-packages/sklearn/feature_selection/_univariate_selection.py:112: UserWarning: Features [28] are constant.\n",
            "  warnings.warn(\"Features %s are constant.\" % constant_features_idx, UserWarning)\n",
            "/usr/local/lib/python3.10/dist-packages/sklearn/feature_selection/_univariate_selection.py:113: RuntimeWarning: invalid value encountered in divide\n",
            "  f = msb / msw\n"
          ]
        },
        {
          "output_type": "execute_result",
          "data": {
            "text/plain": [
              "({'fit_time': array([1.27696514, 1.30453277, 1.28355527, 1.25517821, 1.26157594]),\n",
              "  'score_time': array([0.09364319, 0.07603741, 0.10318303, 0.08494687, 0.08054829]),\n",
              "  'test_score': array([0.64184229, 0.75251069, 0.68102959, 0.65092683, 0.50394141])},\n",
              " 0.6460501637614057)"
            ]
          },
          "metadata": {},
          "execution_count": 33
        }
      ]
    },
    {
      "cell_type": "code",
      "source": [
        "from sklearn.feature_selection import RFE\n",
        "from sklearn.svm import SVR\n",
        "\n",
        "estimator = RidgeClassifier()\n",
        "selector = RFE(estimator, n_features_to_select=2, step=1)\n",
        "selector = selector.fit(X, y)\n",
        "\n",
        "scores = cross_validate(estimator, X[:, selector.support_], y, cv=5)\n",
        "\n",
        "mean_score = np.mean(scores['test_score'])\n",
        "\n",
        "print(\"Scores:\", scores)\n",
        "print(\"Média das pontuações:\", mean_score)"
      ],
      "metadata": {
        "colab": {
          "base_uri": "https://localhost:8080/"
        },
        "id": "kVI0pYk8Byuq",
        "outputId": "be34ac13-f01d-4017-c01c-58c8ec328741"
      },
      "execution_count": 36,
      "outputs": [
        {
          "output_type": "stream",
          "name": "stdout",
          "text": [
            "Scores: {'fit_time': array([0.22639298, 0.2801609 , 0.26654387, 0.26627517, 0.36152029]), 'score_time': array([0.02097225, 0.01839447, 0.01665497, 0.02040148, 0.0337317 ]), 'test_score': array([0.5408122 , 0.55140573, 0.54500783, 0.47432058, 0.48759918])}\n",
            "Média das pontuações: 0.5198291041153699\n"
          ]
        }
      ]
    },
    {
      "cell_type": "code",
      "source": [
        "from sklearn.feature_selection import RFECV\n",
        "from sklearn.svm import SVR\n",
        "\n",
        "estimator = RidgeClassifier()\n",
        "selector = RFECV(estimator, step=1, cv=5)\n",
        "selector = selector.fit(X, y)\n",
        "\n",
        "scores = cross_validate(estimator, X[:, selector.support_], y, cv=5)\n",
        "\n",
        "mean_score = np.mean(scores['test_score'])\n",
        "\n",
        "print(\"Scores:\", scores)\n",
        "print(\"Média das pontuações:\", mean_score)"
      ],
      "metadata": {
        "colab": {
          "base_uri": "https://localhost:8080/"
        },
        "id": "0r7Cokf7hte_",
        "outputId": "5f272193-ac4f-4604-847b-7d2830346176"
      },
      "execution_count": 46,
      "outputs": [
        {
          "output_type": "stream",
          "name": "stdout",
          "text": [
            "Scores: {'fit_time': array([1.24240255, 1.27537036, 0.9535265 , 0.95170736, 0.96249413]), 'score_time': array([0.06747723, 0.06101418, 0.0389545 , 0.03869724, 0.03802085]), 'test_score': array([0.6031772 , 0.76204573, 0.64613346, 0.67016058, 0.5648698 ])}\n",
            "Média das pontuações: 0.6492773528460288\n"
          ]
        }
      ]
    },
    {
      "cell_type": "code",
      "source": [
        "# from sklearn.ensemble import RandomForestClassifier\n",
        "\n",
        "# # ### clf = SVC\n",
        "\n",
        "# modelo = Pipeline([\n",
        "#     ('scaler', StandardScaler()),\n",
        "#     ('clf', RandomForestClassifier())\n",
        "# ])\n",
        "# scores = cross_validate(modelo, X, y)\n",
        "# scores, np.mean(scores['test_score'])"
      ],
      "metadata": {
        "id": "2SL6yNaPrEHs"
      },
      "execution_count": 38,
      "outputs": []
    },
    {
      "cell_type": "code",
      "source": [
        "# from sklearn.ensemble import RandomForestClassifier\n",
        "\n",
        "# # ### clf = SVC\n",
        "\n",
        "# modelo = Pipeline([\n",
        "#     ('scaler', StandardScaler()),\n",
        "#     ('')\n",
        "#     ('clf', RandomForestClassifier())\n",
        "# ])\n",
        "# scores = cross_validate(modelo, X, y)\n",
        "# scores, np.mean(scores['test_score'])"
      ],
      "metadata": {
        "id": "wkhQqBGGPAK8"
      },
      "execution_count": 39,
      "outputs": []
    },
    {
      "cell_type": "code",
      "source": [
        "from sklearn.model_selection import cross_validate\n",
        "from sklearn.linear_model import RidgeClassifier\n",
        "from sklearn.pipeline import Pipeline\n",
        "import numpy as np\n",
        "from sklearn.svm import LinearSVC\n",
        "\n",
        "modelo = RidgeClassifier()\n",
        "\n",
        "pipeline = Pipeline([\n",
        "    ('feature_selection', SelectFromModel(LinearSVC(penalty=\"l2\", dual=False))),\n",
        "    ('classifier', modelo)\n",
        "])\n",
        "\n",
        "pipeline.fit(X, y)\n",
        "\n",
        "scores = cross_validate(modelo, X, y)\n",
        "mean_score = np.mean(scores['test_score'])\n",
        "print(scores, mean_score)\n"
      ],
      "metadata": {
        "colab": {
          "base_uri": "https://localhost:8080/"
        },
        "id": "zP-iKv-tTXJ3",
        "outputId": "d5c5e51c-2b5f-4b38-c5df-63206d88073a"
      },
      "execution_count": 45,
      "outputs": [
        {
          "output_type": "stream",
          "name": "stdout",
          "text": [
            "{'fit_time': array([1.14413095, 0.98501039, 0.96774316, 0.95615458, 0.95546794]), 'score_time': array([0.0715394 , 0.06178498, 0.04956341, 0.04295087, 0.04392362]), 'test_score': array([0.58947704, 0.76359474, 0.62652106, 0.67569405, 0.54031772])} 0.639120922063683\n"
          ]
        }
      ]
    },
    {
      "cell_type": "code",
      "source": [
        "from sklearn.feature_selection import SelectPercentile, mutual_info_classif\n",
        "\n",
        "modelo = Pipeline([\n",
        "    ('scaler', StandardScaler()),\n",
        "    ('fsanova', SelectPercentile(mutual_info_classif)),\n",
        "    ('clf', RidgeClassifier())\n",
        "])\n",
        "scores = cross_validate(modelo, X, y)\n",
        "scores, np.mean(scores['test_score'])"
      ],
      "metadata": {
        "id": "WN3mzWTVVMXU",
        "colab": {
          "base_uri": "https://localhost:8080/"
        },
        "outputId": "9a49e96d-d3ea-494f-a9dc-3e9522e4301e"
      },
      "execution_count": 44,
      "outputs": [
        {
          "output_type": "execute_result",
          "data": {
            "text/plain": [
              "({'fit_time': array([238.80578828, 231.87446928, 238.42065287, 240.20328999,\n",
              "         229.21308851]),\n",
              "  'score_time': array([0.08967304, 0.13907194, 0.06977415, 0.07024455, 0.07021761]),\n",
              "  'test_score': array([0.57165478, 0.76988546, 0.65883548, 0.64048812, 0.51151443])},\n",
              " 0.6304756518128163)"
            ]
          },
          "metadata": {},
          "execution_count": 44
        }
      ]
    },
    {
      "cell_type": "markdown",
      "source": [],
      "metadata": {
        "id": "Te68dtkokCSS"
      }
    },
    {
      "cell_type": "markdown",
      "source": [
        "#### O melhor ganho no clf Ridge foi com feature selection RFECV, aumentando em aprox. 1% o desempenho do classificador sem feature selection."
      ],
      "metadata": {
        "id": "gCUb2e4dkDg7"
      }
    },
    {
      "cell_type": "code",
      "source": [],
      "metadata": {
        "id": "B7PW_t1skV-H"
      },
      "execution_count": null,
      "outputs": []
    }
  ]
}